{
 "cells": [
  {
   "cell_type": "markdown",
   "metadata": {
    "slideshow": {
     "slide_type": "slide"
    }
   },
   "source": [
    "<center>\n",
    "\n",
    "# Great Expectations demo\n",
    "\n",
    "### \"Always know what to expect from your data.\"\n",
    "\n",
    "### https://greatexpectations.io/\n",
    "</center>"
   ]
  },
  {
   "cell_type": "markdown",
   "metadata": {
    "slideshow": {
     "slide_type": "slide"
    }
   },
   "source": [
    "### Import modules."
   ]
  },
  {
   "cell_type": "code",
   "execution_count": 17,
   "metadata": {
    "slideshow": {
     "slide_type": "fragment"
    }
   },
   "outputs": [],
   "source": [
    "import great_expectations as ge\n",
    "import pandas as pd\n",
    "import json\n",
    "from uuid import uuid4"
   ]
  },
  {
   "cell_type": "markdown",
   "metadata": {
    "slideshow": {
     "slide_type": "slide"
    }
   },
   "source": [
    "### Create a sample dataframe."
   ]
  },
  {
   "cell_type": "code",
   "execution_count": 33,
   "metadata": {
    "slideshow": {
     "slide_type": "subslide"
    }
   },
   "outputs": [
    {
     "name": "stdout",
     "output_type": "stream",
     "text": [
      "|    | UNIQUE_ID                            | TIMESTAMP           | ISO_COUNTRY   | EMAIL                    |\n",
      "|---:|:-------------------------------------|:--------------------|:--------------|:-------------------------|\n",
      "|  0 | c156a0c3-09c4-4a5a-bfe9-71c21df5af0a | 26-12-2020 00:00:00 | nan           | test1@ibm.com            |\n",
      "|  1 | 778de6b2-f6fd-4b3a-b770-5d2d70018472 | 27-01-1990 00:00:00 | US            | test.4_invalid.email.gov |\n",
      "|  2 | 9a3aed23-18a9-4e56-9085-a4d9a6828eb7 | 28-12-2020 00:00:00 | MX            | test.2@mx1.ibm.com       |\n",
      "|  3 | fc0c49ec-1031-47c0-8181-f6614713a285 | 29-12-2020          | IT            | test-3@nsa.gov           |\n",
      "|  4 | ca0cb838-f56e-4449-b344-90e88f5e2c8a | 30-12-2020 00:00:00 | CA            | test5@us.ibm.com         |\n",
      "5\n"
     ]
    }
   ],
   "source": [
    "df = pd.DataFrame({\"TIMESTAMP\": [\"26-12-2020 00:00:00\",\n",
    "                                 \"27-01-1990 00:00:00\",\n",
    "                                 \"28-12-2020 00:00:00\",\n",
    "                                 \"29-12-2020\",\n",
    "                                 \"30-12-2020 00:00:00\"],\n",
    "                   \"ISO_COUNTRY\": [pd.np.NaN,\n",
    "                                   \"US\",\n",
    "                                   \"MX\",\n",
    "                                   \"IT\",\n",
    "                                   \"CA\"],\n",
    "                   \"EMAIL\": [\"test1@ibm.com\",\n",
    "                             \"test.4_invalid.email.gov\",\n",
    "                             \"test.2@mx1.ibm.com\",\n",
    "                             \"test-3@nsa.gov\",\n",
    "                             \"test5@us.ibm.com\"]})\n",
    "uuid_series = df.index.to_series().map(lambda x: uuid4())\n",
    "df.insert(loc=0, column=\"UNIQUE_ID\", value=uuid_series)\n",
    "print (df.to_markdown())"
   ]
  },
  {
   "cell_type": "markdown",
   "metadata": {
    "slideshow": {
     "slide_type": "slide"
    }
   },
   "source": [
    "### Convert our dataframe to a GE dataframe."
   ]
  },
  {
   "cell_type": "code",
   "execution_count": 19,
   "metadata": {
    "slideshow": {
     "slide_type": "fragment"
    }
   },
   "outputs": [],
   "source": [
    "df_ge = ge.dataset.PandasDataset(df)"
   ]
  },
  {
   "cell_type": "markdown",
   "metadata": {
    "slideshow": {
     "slide_type": "slide"
    }
   },
   "source": [
    "### Assert that there are no duplicate values in a column."
   ]
  },
  {
   "cell_type": "code",
   "execution_count": 20,
   "metadata": {
    "slideshow": {
     "slide_type": "subslide"
    }
   },
   "outputs": [
    {
     "name": "stdout",
     "output_type": "stream",
     "text": [
      "|    | UNIQUE_ID                            | TIMESTAMP           | ISO_COUNTRY   | EMAIL                    |\n",
      "|---:|:-------------------------------------|:--------------------|:--------------|:-------------------------|\n",
      "|  0 | 52eaf0bf-470d-4cd0-b187-a549acaddadc | 26-12-2020 00:00:00 | nan           | test1@ibm.com            |\n",
      "|  1 | ab7d97dd-ae88-4c4a-95d2-00caa53637e0 | 27-01-1990 00:00:00 | US            | test.4_invalid.email.gov |\n",
      "|  2 | 7026441e-1f31-433d-81bd-26dc8e4d1082 | 28-12-2020 00:00:00 | MX            | test.2@mx1.ibm.com       |\n",
      "|  3 | 3cab9e68-eca2-4de5-9cf7-7aff019e0482 | 29-12-2020          | IT            | test-3@nsa.gov           |\n",
      "|  4 | 8bd8d00f-b64c-4867-b862-fbd1ba17290a | 30-12-2020 00:00:00 | CA            | test5@us.ibm.com         |\n"
     ]
    },
    {
     "data": {
      "text/plain": [
       "{\n",
       "  \"result\": {\n",
       "    \"element_count\": 5,\n",
       "    \"missing_count\": 0,\n",
       "    \"missing_percent\": 0.0,\n",
       "    \"unexpected_count\": 0,\n",
       "    \"unexpected_percent\": 0.0,\n",
       "    \"unexpected_percent_nonmissing\": 0.0,\n",
       "    \"partial_unexpected_list\": [],\n",
       "    \"partial_unexpected_index_list\": [],\n",
       "    \"partial_unexpected_counts\": [],\n",
       "    \"unexpected_list\": [],\n",
       "    \"unexpected_index_list\": []\n",
       "  },\n",
       "  \"exception_info\": null,\n",
       "  \"meta\": {},\n",
       "  \"success\": true\n",
       "}"
      ]
     },
     "execution_count": 20,
     "metadata": {},
     "output_type": "execute_result"
    }
   ],
   "source": [
    "print (df.to_markdown())\n",
    "df_ge.expect_column_values_to_be_unique('UNIQUE_ID', result_format={'result_format': 'COMPLETE'})"
   ]
  },
  {
   "cell_type": "markdown",
   "metadata": {
    "slideshow": {
     "slide_type": "slide"
    }
   },
   "source": [
    "### Assert that all the values in a column belong to a set."
   ]
  },
  {
   "cell_type": "code",
   "execution_count": 21,
   "metadata": {
    "slideshow": {
     "slide_type": "subslide"
    }
   },
   "outputs": [
    {
     "name": "stdout",
     "output_type": "stream",
     "text": [
      "|    | UNIQUE_ID                            | TIMESTAMP           | ISO_COUNTRY   | EMAIL                    |\n",
      "|---:|:-------------------------------------|:--------------------|:--------------|:-------------------------|\n",
      "|  0 | 52eaf0bf-470d-4cd0-b187-a549acaddadc | 26-12-2020 00:00:00 | nan           | test1@ibm.com            |\n",
      "|  1 | ab7d97dd-ae88-4c4a-95d2-00caa53637e0 | 27-01-1990 00:00:00 | US            | test.4_invalid.email.gov |\n",
      "|  2 | 7026441e-1f31-433d-81bd-26dc8e4d1082 | 28-12-2020 00:00:00 | MX            | test.2@mx1.ibm.com       |\n",
      "|  3 | 3cab9e68-eca2-4de5-9cf7-7aff019e0482 | 29-12-2020          | IT            | test-3@nsa.gov           |\n",
      "|  4 | 8bd8d00f-b64c-4867-b862-fbd1ba17290a | 30-12-2020 00:00:00 | CA            | test5@us.ibm.com         |\n"
     ]
    },
    {
     "data": {
      "text/plain": [
       "{\n",
       "  \"result\": {\n",
       "    \"element_count\": 5,\n",
       "    \"missing_count\": 1,\n",
       "    \"missing_percent\": 20.0,\n",
       "    \"unexpected_count\": 2,\n",
       "    \"unexpected_percent\": 40.0,\n",
       "    \"unexpected_percent_nonmissing\": 50.0,\n",
       "    \"partial_unexpected_list\": [\n",
       "      \"US\",\n",
       "      \"CA\"\n",
       "    ],\n",
       "    \"partial_unexpected_index_list\": [\n",
       "      1,\n",
       "      4\n",
       "    ],\n",
       "    \"partial_unexpected_counts\": [\n",
       "      {\n",
       "        \"value\": \"CA\",\n",
       "        \"count\": 1\n",
       "      },\n",
       "      {\n",
       "        \"value\": \"US\",\n",
       "        \"count\": 1\n",
       "      }\n",
       "    ],\n",
       "    \"unexpected_list\": [\n",
       "      \"US\",\n",
       "      \"CA\"\n",
       "    ],\n",
       "    \"unexpected_index_list\": [\n",
       "      1,\n",
       "      4\n",
       "    ]\n",
       "  },\n",
       "  \"exception_info\": null,\n",
       "  \"meta\": {},\n",
       "  \"success\": false\n",
       "}"
      ]
     },
     "execution_count": 21,
     "metadata": {},
     "output_type": "execute_result"
    }
   ],
   "source": [
    "print (df.to_markdown())\n",
    "df_ge.expect_column_values_to_be_in_set('ISO_COUNTRY', ['MX', 'JP', 'IT'], \n",
    "                                        result_format={'result_format': 'COMPLETE'})"
   ]
  },
  {
   "cell_type": "markdown",
   "metadata": {
    "slideshow": {
     "slide_type": "slide"
    }
   },
   "source": [
    "### We can assert the row counts."
   ]
  },
  {
   "cell_type": "code",
   "execution_count": 23,
   "metadata": {
    "slideshow": {
     "slide_type": "subslide"
    }
   },
   "outputs": [
    {
     "name": "stdout",
     "output_type": "stream",
     "text": [
      "|    | UNIQUE_ID                            | TIMESTAMP           | ISO_COUNTRY   | EMAIL                    |\n",
      "|---:|:-------------------------------------|:--------------------|:--------------|:-------------------------|\n",
      "|  0 | 52eaf0bf-470d-4cd0-b187-a549acaddadc | 26-12-2020 00:00:00 | nan           | test1@ibm.com            |\n",
      "|  1 | ab7d97dd-ae88-4c4a-95d2-00caa53637e0 | 27-01-1990 00:00:00 | US            | test.4_invalid.email.gov |\n",
      "|  2 | 7026441e-1f31-433d-81bd-26dc8e4d1082 | 28-12-2020 00:00:00 | MX            | test.2@mx1.ibm.com       |\n",
      "|  3 | 3cab9e68-eca2-4de5-9cf7-7aff019e0482 | 29-12-2020          | IT            | test-3@nsa.gov           |\n",
      "|  4 | 8bd8d00f-b64c-4867-b862-fbd1ba17290a | 30-12-2020 00:00:00 | CA            | test5@us.ibm.com         |\n"
     ]
    },
    {
     "data": {
      "text/plain": [
       "{\n",
       "  \"result\": {\n",
       "    \"observed_value\": 5\n",
       "  },\n",
       "  \"exception_info\": null,\n",
       "  \"meta\": {},\n",
       "  \"success\": false\n",
       "}"
      ]
     },
     "execution_count": 23,
     "metadata": {},
     "output_type": "execute_result"
    }
   ],
   "source": [
    "print (df.to_markdown())\n",
    "df_ge.expect_table_row_count_to_be_between(1, 3, result_format={'result_format': 'COMPLETE'})"
   ]
  },
  {
   "cell_type": "markdown",
   "metadata": {
    "slideshow": {
     "slide_type": "slide"
    }
   },
   "source": [
    "### We can assert that a specific column exist."
   ]
  },
  {
   "cell_type": "code",
   "execution_count": 25,
   "metadata": {
    "slideshow": {
     "slide_type": "subslide"
    }
   },
   "outputs": [
    {
     "name": "stdout",
     "output_type": "stream",
     "text": [
      "|    | UNIQUE_ID                            | TIMESTAMP           | ISO_COUNTRY   | EMAIL                    |\n",
      "|---:|:-------------------------------------|:--------------------|:--------------|:-------------------------|\n",
      "|  0 | 52eaf0bf-470d-4cd0-b187-a549acaddadc | 26-12-2020 00:00:00 | nan           | test1@ibm.com            |\n",
      "|  1 | ab7d97dd-ae88-4c4a-95d2-00caa53637e0 | 27-01-1990 00:00:00 | US            | test.4_invalid.email.gov |\n",
      "|  2 | 7026441e-1f31-433d-81bd-26dc8e4d1082 | 28-12-2020 00:00:00 | MX            | test.2@mx1.ibm.com       |\n",
      "|  3 | 3cab9e68-eca2-4de5-9cf7-7aff019e0482 | 29-12-2020          | IT            | test-3@nsa.gov           |\n",
      "|  4 | 8bd8d00f-b64c-4867-b862-fbd1ba17290a | 30-12-2020 00:00:00 | CA            | test5@us.ibm.com         |\n"
     ]
    },
    {
     "data": {
      "text/plain": [
       "{\n",
       "  \"result\": {},\n",
       "  \"exception_info\": null,\n",
       "  \"meta\": {},\n",
       "  \"success\": false\n",
       "}"
      ]
     },
     "execution_count": 25,
     "metadata": {},
     "output_type": "execute_result"
    }
   ],
   "source": [
    "print (df.to_markdown())\n",
    "df_ge.expect_column_to_exist(\"ISO_COUNTRY\", result_format={'result_format': 'COMPLETE'})"
   ]
  },
  {
   "cell_type": "markdown",
   "metadata": {
    "slideshow": {
     "slide_type": "slide"
    }
   },
   "source": [
    "### We can assert that the columns list has an exact order."
   ]
  },
  {
   "cell_type": "code",
   "execution_count": 28,
   "metadata": {
    "slideshow": {
     "slide_type": "subslide"
    }
   },
   "outputs": [
    {
     "name": "stdout",
     "output_type": "stream",
     "text": [
      "|    | UNIQUE_ID                            | TIMESTAMP           | ISO_COUNTRY   | EMAIL                    |\n",
      "|---:|:-------------------------------------|:--------------------|:--------------|:-------------------------|\n",
      "|  0 | 52eaf0bf-470d-4cd0-b187-a549acaddadc | 26-12-2020 00:00:00 | nan           | test1@ibm.com            |\n",
      "|  1 | ab7d97dd-ae88-4c4a-95d2-00caa53637e0 | 27-01-1990 00:00:00 | US            | test.4_invalid.email.gov |\n",
      "|  2 | 7026441e-1f31-433d-81bd-26dc8e4d1082 | 28-12-2020 00:00:00 | MX            | test.2@mx1.ibm.com       |\n",
      "|  3 | 3cab9e68-eca2-4de5-9cf7-7aff019e0482 | 29-12-2020          | IT            | test-3@nsa.gov           |\n",
      "|  4 | 8bd8d00f-b64c-4867-b862-fbd1ba17290a | 30-12-2020 00:00:00 | CA            | test5@us.ibm.com         |\n"
     ]
    },
    {
     "data": {
      "text/plain": [
       "{\n",
       "  \"result\": {\n",
       "    \"observed_value\": [\n",
       "      \"UNIQUE_ID\",\n",
       "      \"TIMESTAMP\",\n",
       "      \"ISO_COUNTRY\",\n",
       "      \"EMAIL\"\n",
       "    ],\n",
       "    \"details\": {\n",
       "      \"mismatched\": [\n",
       "        {\n",
       "          \"Expected Column Position\": 3,\n",
       "          \"Expected\": null,\n",
       "          \"Found\": \"EMAIL\"\n",
       "        }\n",
       "      ]\n",
       "    }\n",
       "  },\n",
       "  \"exception_info\": null,\n",
       "  \"meta\": {},\n",
       "  \"success\": false\n",
       "}"
      ]
     },
     "execution_count": 28,
     "metadata": {},
     "output_type": "execute_result"
    }
   ],
   "source": [
    "print (df.to_markdown())\n",
    "df_ge.expect_table_columns_to_match_ordered_list([\"UNIQUE_ID\", \"TIMESTAMP\", \"ISO_COUNTRY\"], \n",
    "                                                 result_format={'result_format': 'COMPLETE'})"
   ]
  },
  {
   "cell_type": "markdown",
   "metadata": {
    "slideshow": {
     "slide_type": "slide"
    }
   },
   "source": [
    "### We can assert that a column does not have any null values."
   ]
  },
  {
   "cell_type": "code",
   "execution_count": 29,
   "metadata": {
    "slideshow": {
     "slide_type": "subslide"
    }
   },
   "outputs": [
    {
     "data": {
      "text/plain": [
       "{\n",
       "  \"result\": {\n",
       "    \"element_count\": 5,\n",
       "    \"unexpected_count\": 1,\n",
       "    \"unexpected_percent\": 20.0,\n",
       "    \"partial_unexpected_list\": [],\n",
       "    \"unexpected_list\": [\n",
       "      null\n",
       "    ],\n",
       "    \"unexpected_index_list\": [\n",
       "      0\n",
       "    ]\n",
       "  },\n",
       "  \"exception_info\": null,\n",
       "  \"meta\": {},\n",
       "  \"success\": false\n",
       "}"
      ]
     },
     "execution_count": 29,
     "metadata": {},
     "output_type": "execute_result"
    }
   ],
   "source": [
    "df_ge.expect_column_values_to_not_be_null(\"ISO_COUNTRY\", \n",
    "                                          result_format={'result_format': 'COMPLETE'})"
   ]
  },
  {
   "cell_type": "markdown",
   "metadata": {
    "slideshow": {
     "slide_type": "slide"
    }
   },
   "source": [
    "### Assert that a column matches a regex (for example, email)."
   ]
  },
  {
   "cell_type": "code",
   "execution_count": 30,
   "metadata": {
    "slideshow": {
     "slide_type": "subslide"
    }
   },
   "outputs": [
    {
     "data": {
      "text/plain": [
       "{\n",
       "  \"result\": {\n",
       "    \"element_count\": 5,\n",
       "    \"missing_count\": 0,\n",
       "    \"missing_percent\": 0.0,\n",
       "    \"unexpected_count\": 1,\n",
       "    \"unexpected_percent\": 20.0,\n",
       "    \"unexpected_percent_nonmissing\": 20.0,\n",
       "    \"partial_unexpected_list\": [\n",
       "      \"test.4_invalid.email.gov\"\n",
       "    ],\n",
       "    \"partial_unexpected_index_list\": [\n",
       "      1\n",
       "    ],\n",
       "    \"partial_unexpected_counts\": [\n",
       "      {\n",
       "        \"value\": \"test.4_invalid.email.gov\",\n",
       "        \"count\": 1\n",
       "      }\n",
       "    ],\n",
       "    \"unexpected_list\": [\n",
       "      \"test.4_invalid.email.gov\"\n",
       "    ],\n",
       "    \"unexpected_index_list\": [\n",
       "      1\n",
       "    ]\n",
       "  },\n",
       "  \"exception_info\": null,\n",
       "  \"meta\": {},\n",
       "  \"success\": false\n",
       "}"
      ]
     },
     "execution_count": 30,
     "metadata": {},
     "output_type": "execute_result"
    }
   ],
   "source": [
    "df_ge.expect_column_values_to_match_regex(\"EMAIL\", r\"(^[a-zA-Z0-9_.+-]+@[a-zA-Z0-9-]+\\.[a-zA-Z0-9-.]+$)\", \n",
    "                                          result_format={'result_format': 'COMPLETE'})"
   ]
  },
  {
   "cell_type": "markdown",
   "metadata": {
    "slideshow": {
     "slide_type": "slide"
    }
   },
   "source": [
    "### Assert that a column matches a strftime format."
   ]
  },
  {
   "cell_type": "code",
   "execution_count": 15,
   "metadata": {
    "slideshow": {
     "slide_type": "subslide"
    }
   },
   "outputs": [
    {
     "name": "stdout",
     "output_type": "stream",
     "text": [
      "{\n",
      "  \"result\": {\n",
      "    \"element_count\": 5,\n",
      "    \"missing_count\": 0,\n",
      "    \"missing_percent\": 0.0,\n",
      "    \"unexpected_count\": 1,\n",
      "    \"unexpected_percent\": 20.0,\n",
      "    \"unexpected_percent_nonmissing\": 20.0,\n",
      "    \"partial_unexpected_list\": [\n",
      "      \"29-12-2020\"\n",
      "    ],\n",
      "    \"partial_unexpected_index_list\": [\n",
      "      3\n",
      "    ],\n",
      "    \"partial_unexpected_counts\": [\n",
      "      {\n",
      "        \"value\": \"29-12-2020\",\n",
      "        \"count\": 1\n",
      "      }\n",
      "    ],\n",
      "    \"unexpected_list\": [\n",
      "      \"29-12-2020\"\n",
      "    ],\n",
      "    \"unexpected_index_list\": [\n",
      "      3\n",
      "    ]\n",
      "  },\n",
      "  \"exception_info\": null,\n",
      "  \"expectation_config\": {\n",
      "    \"kwargs\": {\n",
      "      \"column\": \"TIMESTAMP\",\n",
      "      \"strftime_format\": \"%d-%m-%Y %H:%M:%S\",\n",
      "      \"result_format\": {\n",
      "        \"result_format\": \"COMPLETE\"\n",
      "      }\n",
      "    },\n",
      "    \"expectation_type\": \"expect_column_values_to_match_strftime_format\",\n",
      "    \"meta\": {}\n",
      "  },\n",
      "  \"meta\": {},\n",
      "  \"success\": false\n",
      "}\n"
     ]
    }
   ],
   "source": [
    "test = df_ge.expect_column_values_to_match_strftime_format(\"TIMESTAMP\", \"%d-%m-%Y %H:%M:%S\", \n",
    "                                                           result_format={'result_format': 'COMPLETE'})\n",
    "print(test)"
   ]
  },
  {
   "cell_type": "markdown",
   "metadata": {
    "slideshow": {
     "slide_type": "slide"
    }
   },
   "source": [
    "### Drop the \"unexpected\" values from the dataframe."
   ]
  },
  {
   "cell_type": "code",
   "execution_count": null,
   "metadata": {
    "slideshow": {
     "slide_type": "fragment"
    }
   },
   "outputs": [],
   "source": [
    "df.drop(test.result[\"unexpected_index_list\"], inplace=True)\n",
    "print(df.to_markdown())"
   ]
  },
  {
   "cell_type": "markdown",
   "metadata": {
    "slideshow": {
     "slide_type": "slide"
    }
   },
   "source": [
    "### Assert that the values are in a specific range (even works with dates!)."
   ]
  },
  {
   "cell_type": "code",
   "execution_count": 31,
   "metadata": {
    "slideshow": {
     "slide_type": "subslide"
    }
   },
   "outputs": [
    {
     "name": "stdout",
     "output_type": "stream",
     "text": [
      "{\n",
      "  \"result\": {\n",
      "    \"element_count\": 5,\n",
      "    \"missing_count\": 0,\n",
      "    \"missing_percent\": 0.0,\n",
      "    \"unexpected_count\": 1,\n",
      "    \"unexpected_percent\": 20.0,\n",
      "    \"unexpected_percent_nonmissing\": 20.0,\n",
      "    \"partial_unexpected_list\": [\n",
      "      \"27-01-1990 00:00:00\"\n",
      "    ],\n",
      "    \"partial_unexpected_index_list\": [\n",
      "      1\n",
      "    ],\n",
      "    \"partial_unexpected_counts\": [\n",
      "      {\n",
      "        \"value\": \"27-01-1990 00:00:00\",\n",
      "        \"count\": 1\n",
      "      }\n",
      "    ],\n",
      "    \"unexpected_list\": [\n",
      "      \"27-01-1990 00:00:00\"\n",
      "    ],\n",
      "    \"unexpected_index_list\": [\n",
      "      1\n",
      "    ]\n",
      "  },\n",
      "  \"exception_info\": null,\n",
      "  \"expectation_config\": {\n",
      "    \"kwargs\": {\n",
      "      \"column\": \"TIMESTAMP\",\n",
      "      \"parse_strings_as_datetimes\": true,\n",
      "      \"min_value\": \"26-12-2020 00:00:00\",\n",
      "      \"max_value\": \"30-12-2020 00:00:00\",\n",
      "      \"result_format\": {\n",
      "        \"result_format\": \"COMPLETE\"\n",
      "      }\n",
      "    },\n",
      "    \"expectation_type\": \"expect_column_values_to_be_between\",\n",
      "    \"meta\": {}\n",
      "  },\n",
      "  \"meta\": {},\n",
      "  \"success\": false\n",
      "}\n"
     ]
    }
   ],
   "source": [
    "test = df_ge.expect_column_values_to_be_between(\"TIMESTAMP\",\n",
    "                                                parse_strings_as_datetimes=True,\n",
    "                                                min_value=\"26-12-2020 00:00:00\",\n",
    "                                                max_value=\"30-12-2020 00:00:00\",\n",
    "                                                result_format={'result_format': 'COMPLETE'})\n",
    "print (test)"
   ]
  },
  {
   "cell_type": "markdown",
   "metadata": {
    "slideshow": {
     "slide_type": "slide"
    }
   },
   "source": [
    "### Since expectations rarely change, we can save them to a configuration file and re-use them."
   ]
  },
  {
   "cell_type": "code",
   "execution_count": null,
   "metadata": {
    "slideshow": {
     "slide_type": "fragment"
    }
   },
   "outputs": [],
   "source": [
    "df_ge.save_expectation_suite('/home/alan/saved_config.json')"
   ]
  },
  {
   "cell_type": "markdown",
   "metadata": {
    "slideshow": {
     "slide_type": "slide"
    }
   },
   "source": [
    "### Create a new dataset."
   ]
  },
  {
   "cell_type": "code",
   "execution_count": null,
   "metadata": {
    "slideshow": {
     "slide_type": "subslide"
    }
   },
   "outputs": [],
   "source": [
    "df2 = pd.DataFrame({\"TIMESTAMP\": [\"26-12-2020 00:00:00\",\n",
    "                                  \"27-01-1990 00:00:00\",\n",
    "                                  \"28-12-2020 00:00:00\",\n",
    "                                  \"29-12-2020\",\n",
    "                                  \"30-12-2020 00:00:00\"],\n",
    "                    \"ISO_COUNTRY\": [pd.np.NaN,\n",
    "                                    \"US\",\n",
    "                                    \"MX\",\n",
    "                                    \"IT\",\n",
    "                                    \"CA\"],\n",
    "                    \"EMAIL\": [\"test1@ibm.com\",\n",
    "                              \"test.4_invalid.email.gov\",\n",
    "                              \"test.2@mx1.ibm.com\",\n",
    "                              \"test-3@nsa.gov\",\n",
    "                              \"test5@us.ibm.com\"]})\n",
    "uuid_series = df2.index.to_series().map(lambda x: uuid4())\n",
    "df2.insert(loc=0, column=\"UNIQUE_ID\", value=uuid_series)\n",
    "print (df2.to_markdown())"
   ]
  },
  {
   "cell_type": "markdown",
   "metadata": {
    "slideshow": {
     "slide_type": "slide"
    }
   },
   "source": [
    "### Using expectations files, we can easily validate any dataset against them."
   ]
  },
  {
   "cell_type": "code",
   "execution_count": null,
   "metadata": {
    "slideshow": {
     "slide_type": "subslide"
    }
   },
   "outputs": [],
   "source": [
    "df_ge2 = ge.dataset.PandasDataset(df2)\n",
    "validation_results = df_ge2.validate(expectation_suite='/home/alan/saved_config.json')\n",
    "print(validation_results)"
   ]
  }
 ],
 "metadata": {
  "celltoolbar": "Slideshow",
  "kernelspec": {
   "display_name": "Python 3",
   "language": "python",
   "name": "python3"
  },
  "language_info": {
   "codemirror_mode": {
    "name": "ipython",
    "version": 3
   },
   "file_extension": ".py",
   "mimetype": "text/x-python",
   "name": "python",
   "nbconvert_exporter": "python",
   "pygments_lexer": "ipython3",
   "version": "3.6.10"
  },
  "rise": {
   "enable_chalkboard": true,
   "scroll": true,
   "theme": "night"
  }
 },
 "nbformat": 4,
 "nbformat_minor": 4
}
