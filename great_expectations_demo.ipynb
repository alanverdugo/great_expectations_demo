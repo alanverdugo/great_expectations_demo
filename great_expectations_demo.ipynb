{
 "cells": [
  {
   "cell_type": "markdown",
   "metadata": {
    "slideshow": {
     "slide_type": "slide"
    }
   },
   "source": [
    "<center>\n",
    "\n",
    "# Great Expectations demo\n",
    "\n",
    "### \"Always know what to expect from your data.\"\n",
    "\n",
    "### https://greatexpectations.io/\n",
    "</center>"
   ]
  },
  {
   "cell_type": "markdown",
   "metadata": {
    "slideshow": {
     "slide_type": "slide"
    }
   },
   "source": [
    "### Import modules."
   ]
  },
  {
   "cell_type": "code",
   "execution_count": 44,
   "metadata": {
    "slideshow": {
     "slide_type": "fragment"
    }
   },
   "outputs": [],
   "source": [
    "import great_expectations as ge\n",
    "import pandas as pd\n",
    "import json\n",
    "from uuid import uuid4"
   ]
  },
  {
   "cell_type": "markdown",
   "metadata": {
    "slideshow": {
     "slide_type": "slide"
    }
   },
   "source": [
    "### Create a sample dataframe."
   ]
  },
  {
   "cell_type": "code",
   "execution_count": 45,
   "metadata": {
    "slideshow": {
     "slide_type": "subslide"
    }
   },
   "outputs": [
    {
     "name": "stdout",
     "output_type": "stream",
     "text": [
      "|    | UNIQUE_ID                            | TIMESTAMP           | ISO_COUNTRY   | EMAIL                    |\n",
      "|---:|:-------------------------------------|:--------------------|:--------------|:-------------------------|\n",
      "|  0 | 0e0b6cf2-b80b-410d-aa5b-7ad98b6a46e7 | 26-12-2020 00:00:00 | nan           | test1@ibm.com            |\n",
      "|  1 | e7501c1f-70ae-4b11-93bc-b1af7099293e | 27-01-1990 00:00:00 | US            | test.4_invalid.email.gov |\n",
      "|  2 | 76865200-73f6-4316-9b26-d10bcf4ea6ea | 28-12-2020 00:00:00 | MX            | test.2@mx1.ibm.com       |\n",
      "|  3 | e7082b6d-f820-4fb8-96f4-0e1c537fcd38 | 29-12-2020          | IT            | test-3@nsa.gov           |\n",
      "|  4 | 82e0941e-3492-4c0f-8611-b93caa3c17d2 | 30-12-2020 00:00:00 | CA            | test5@us.ibm.com         |\n"
     ]
    }
   ],
   "source": [
    "df = pd.DataFrame({\"TIMESTAMP\": [\"26-12-2020 00:00:00\",\n",
    "                                 \"27-01-1990 00:00:00\",\n",
    "                                 \"28-12-2020 00:00:00\",\n",
    "                                 \"29-12-2020\",\n",
    "                                 \"30-12-2020 00:00:00\"],\n",
    "                   \"ISO_COUNTRY\": [pd.np.NaN,\n",
    "                                   \"US\",\n",
    "                                   \"MX\",\n",
    "                                   \"IT\",\n",
    "                                   \"CA\"],\n",
    "                   \"EMAIL\": [\"test1@ibm.com\",\n",
    "                             \"test.4_invalid.email.gov\",\n",
    "                             \"test.2@mx1.ibm.com\",\n",
    "                             \"test-3@nsa.gov\",\n",
    "                             \"test5@us.ibm.com\"]})\n",
    "uuid_series = df.index.to_series().map(lambda x: uuid4())\n",
    "df.insert(loc=0, column=\"UNIQUE_ID\", value=uuid_series)\n",
    "print (df.to_markdown())"
   ]
  },
  {
   "cell_type": "markdown",
   "metadata": {
    "slideshow": {
     "slide_type": "slide"
    }
   },
   "source": [
    "### Convert our dataframe to a GE dataframe."
   ]
  },
  {
   "cell_type": "code",
   "execution_count": 46,
   "metadata": {
    "slideshow": {
     "slide_type": "fragment"
    }
   },
   "outputs": [],
   "source": [
    "df_ge = ge.dataset.PandasDataset(df)"
   ]
  },
  {
   "cell_type": "markdown",
   "metadata": {
    "slideshow": {
     "slide_type": "slide"
    }
   },
   "source": [
    "### Assert that there are no duplicate values in a column."
   ]
  },
  {
   "cell_type": "code",
   "execution_count": 47,
   "metadata": {
    "slideshow": {
     "slide_type": "subslide"
    }
   },
   "outputs": [
    {
     "name": "stdout",
     "output_type": "stream",
     "text": [
      "|    | UNIQUE_ID                            | TIMESTAMP           | ISO_COUNTRY   | EMAIL                    |\n",
      "|---:|:-------------------------------------|:--------------------|:--------------|:-------------------------|\n",
      "|  0 | 0e0b6cf2-b80b-410d-aa5b-7ad98b6a46e7 | 26-12-2020 00:00:00 | nan           | test1@ibm.com            |\n",
      "|  1 | e7501c1f-70ae-4b11-93bc-b1af7099293e | 27-01-1990 00:00:00 | US            | test.4_invalid.email.gov |\n",
      "|  2 | 76865200-73f6-4316-9b26-d10bcf4ea6ea | 28-12-2020 00:00:00 | MX            | test.2@mx1.ibm.com       |\n",
      "|  3 | e7082b6d-f820-4fb8-96f4-0e1c537fcd38 | 29-12-2020          | IT            | test-3@nsa.gov           |\n",
      "|  4 | 82e0941e-3492-4c0f-8611-b93caa3c17d2 | 30-12-2020 00:00:00 | CA            | test5@us.ibm.com         |\n"
     ]
    },
    {
     "data": {
      "text/plain": [
       "{\n",
       "  \"meta\": {},\n",
       "  \"exception_info\": null,\n",
       "  \"result\": {\n",
       "    \"element_count\": 5,\n",
       "    \"missing_count\": 0,\n",
       "    \"missing_percent\": 0.0,\n",
       "    \"unexpected_count\": 0,\n",
       "    \"unexpected_percent\": 0.0,\n",
       "    \"unexpected_percent_nonmissing\": 0.0,\n",
       "    \"partial_unexpected_list\": [],\n",
       "    \"partial_unexpected_index_list\": [],\n",
       "    \"partial_unexpected_counts\": [],\n",
       "    \"unexpected_list\": [],\n",
       "    \"unexpected_index_list\": []\n",
       "  },\n",
       "  \"success\": true\n",
       "}"
      ]
     },
     "execution_count": 47,
     "metadata": {},
     "output_type": "execute_result"
    }
   ],
   "source": [
    "print (df.to_markdown())\n",
    "df_ge.expect_column_values_to_be_unique('UNIQUE_ID', result_format={'result_format': 'COMPLETE'})"
   ]
  },
  {
   "cell_type": "markdown",
   "metadata": {
    "slideshow": {
     "slide_type": "slide"
    }
   },
   "source": [
    "### Assert that all the values in a column belong to a set."
   ]
  },
  {
   "cell_type": "code",
   "execution_count": 48,
   "metadata": {
    "slideshow": {
     "slide_type": "subslide"
    }
   },
   "outputs": [
    {
     "name": "stdout",
     "output_type": "stream",
     "text": [
      "|    | UNIQUE_ID                            | TIMESTAMP           | ISO_COUNTRY   | EMAIL                    |\n",
      "|---:|:-------------------------------------|:--------------------|:--------------|:-------------------------|\n",
      "|  0 | 0e0b6cf2-b80b-410d-aa5b-7ad98b6a46e7 | 26-12-2020 00:00:00 | nan           | test1@ibm.com            |\n",
      "|  1 | e7501c1f-70ae-4b11-93bc-b1af7099293e | 27-01-1990 00:00:00 | US            | test.4_invalid.email.gov |\n",
      "|  2 | 76865200-73f6-4316-9b26-d10bcf4ea6ea | 28-12-2020 00:00:00 | MX            | test.2@mx1.ibm.com       |\n",
      "|  3 | e7082b6d-f820-4fb8-96f4-0e1c537fcd38 | 29-12-2020          | IT            | test-3@nsa.gov           |\n",
      "|  4 | 82e0941e-3492-4c0f-8611-b93caa3c17d2 | 30-12-2020 00:00:00 | CA            | test5@us.ibm.com         |\n"
     ]
    },
    {
     "data": {
      "text/plain": [
       "{\n",
       "  \"meta\": {},\n",
       "  \"exception_info\": null,\n",
       "  \"result\": {\n",
       "    \"element_count\": 5,\n",
       "    \"missing_count\": 1,\n",
       "    \"missing_percent\": 20.0,\n",
       "    \"unexpected_count\": 2,\n",
       "    \"unexpected_percent\": 40.0,\n",
       "    \"unexpected_percent_nonmissing\": 50.0,\n",
       "    \"partial_unexpected_list\": [\n",
       "      \"US\",\n",
       "      \"CA\"\n",
       "    ],\n",
       "    \"partial_unexpected_index_list\": [\n",
       "      1,\n",
       "      4\n",
       "    ],\n",
       "    \"partial_unexpected_counts\": [\n",
       "      {\n",
       "        \"value\": \"CA\",\n",
       "        \"count\": 1\n",
       "      },\n",
       "      {\n",
       "        \"value\": \"US\",\n",
       "        \"count\": 1\n",
       "      }\n",
       "    ],\n",
       "    \"unexpected_list\": [\n",
       "      \"US\",\n",
       "      \"CA\"\n",
       "    ],\n",
       "    \"unexpected_index_list\": [\n",
       "      1,\n",
       "      4\n",
       "    ]\n",
       "  },\n",
       "  \"success\": false\n",
       "}"
      ]
     },
     "execution_count": 48,
     "metadata": {},
     "output_type": "execute_result"
    }
   ],
   "source": [
    "print (df.to_markdown())\n",
    "df_ge.expect_column_values_to_be_in_set('ISO_COUNTRY', ['MX', 'JP', 'IT'], \n",
    "                                        result_format={'result_format': 'COMPLETE'})"
   ]
  },
  {
   "cell_type": "markdown",
   "metadata": {
    "slideshow": {
     "slide_type": "slide"
    }
   },
   "source": [
    "### We can assert the row counts."
   ]
  },
  {
   "cell_type": "code",
   "execution_count": 50,
   "metadata": {
    "slideshow": {
     "slide_type": "subslide"
    }
   },
   "outputs": [
    {
     "name": "stdout",
     "output_type": "stream",
     "text": [
      "|    | UNIQUE_ID                            | TIMESTAMP           | ISO_COUNTRY   | EMAIL                    |\n",
      "|---:|:-------------------------------------|:--------------------|:--------------|:-------------------------|\n",
      "|  0 | 0e0b6cf2-b80b-410d-aa5b-7ad98b6a46e7 | 26-12-2020 00:00:00 | nan           | test1@ibm.com            |\n",
      "|  1 | e7501c1f-70ae-4b11-93bc-b1af7099293e | 27-01-1990 00:00:00 | US            | test.4_invalid.email.gov |\n",
      "|  2 | 76865200-73f6-4316-9b26-d10bcf4ea6ea | 28-12-2020 00:00:00 | MX            | test.2@mx1.ibm.com       |\n",
      "|  3 | e7082b6d-f820-4fb8-96f4-0e1c537fcd38 | 29-12-2020          | IT            | test-3@nsa.gov           |\n",
      "|  4 | 82e0941e-3492-4c0f-8611-b93caa3c17d2 | 30-12-2020 00:00:00 | CA            | test5@us.ibm.com         |\n"
     ]
    },
    {
     "data": {
      "text/plain": [
       "{\n",
       "  \"meta\": {},\n",
       "  \"exception_info\": null,\n",
       "  \"result\": {\n",
       "    \"observed_value\": 5\n",
       "  },\n",
       "  \"success\": false\n",
       "}"
      ]
     },
     "execution_count": 50,
     "metadata": {},
     "output_type": "execute_result"
    }
   ],
   "source": [
    "print (df.to_markdown())\n",
    "df_ge.expect_table_row_count_to_be_between(1, 3, result_format={'result_format': 'COMPLETE'})"
   ]
  },
  {
   "cell_type": "markdown",
   "metadata": {
    "slideshow": {
     "slide_type": "slide"
    }
   },
   "source": [
    "### We can assert that a specific column exist."
   ]
  },
  {
   "cell_type": "code",
   "execution_count": 52,
   "metadata": {
    "slideshow": {
     "slide_type": "subslide"
    }
   },
   "outputs": [
    {
     "name": "stdout",
     "output_type": "stream",
     "text": [
      "|    | UNIQUE_ID                            | TIMESTAMP           | ISO_COUNTRY   | EMAIL                    |\n",
      "|---:|:-------------------------------------|:--------------------|:--------------|:-------------------------|\n",
      "|  0 | 0e0b6cf2-b80b-410d-aa5b-7ad98b6a46e7 | 26-12-2020 00:00:00 | nan           | test1@ibm.com            |\n",
      "|  1 | e7501c1f-70ae-4b11-93bc-b1af7099293e | 27-01-1990 00:00:00 | US            | test.4_invalid.email.gov |\n",
      "|  2 | 76865200-73f6-4316-9b26-d10bcf4ea6ea | 28-12-2020 00:00:00 | MX            | test.2@mx1.ibm.com       |\n",
      "|  3 | e7082b6d-f820-4fb8-96f4-0e1c537fcd38 | 29-12-2020          | IT            | test-3@nsa.gov           |\n",
      "|  4 | 82e0941e-3492-4c0f-8611-b93caa3c17d2 | 30-12-2020 00:00:00 | CA            | test5@us.ibm.com         |\n"
     ]
    },
    {
     "data": {
      "text/plain": [
       "{\n",
       "  \"meta\": {},\n",
       "  \"exception_info\": null,\n",
       "  \"result\": {},\n",
       "  \"success\": false\n",
       "}"
      ]
     },
     "execution_count": 52,
     "metadata": {},
     "output_type": "execute_result"
    }
   ],
   "source": [
    "print (df.to_markdown())\n",
    "df_ge.expect_column_to_exist(\"ISO_COUNTRY\", result_format={'result_format': 'COMPLETE'})"
   ]
  },
  {
   "cell_type": "markdown",
   "metadata": {
    "slideshow": {
     "slide_type": "slide"
    }
   },
   "source": [
    "### We can assert that the columns list has an exact order."
   ]
  },
  {
   "cell_type": "code",
   "execution_count": 55,
   "metadata": {
    "slideshow": {
     "slide_type": "subslide"
    }
   },
   "outputs": [
    {
     "name": "stdout",
     "output_type": "stream",
     "text": [
      "|    | UNIQUE_ID                            | TIMESTAMP           | ISO_COUNTRY   | EMAIL                    |\n",
      "|---:|:-------------------------------------|:--------------------|:--------------|:-------------------------|\n",
      "|  0 | 0e0b6cf2-b80b-410d-aa5b-7ad98b6a46e7 | 26-12-2020 00:00:00 | nan           | test1@ibm.com            |\n",
      "|  1 | e7501c1f-70ae-4b11-93bc-b1af7099293e | 27-01-1990 00:00:00 | US            | test.4_invalid.email.gov |\n",
      "|  2 | 76865200-73f6-4316-9b26-d10bcf4ea6ea | 28-12-2020 00:00:00 | MX            | test.2@mx1.ibm.com       |\n",
      "|  3 | e7082b6d-f820-4fb8-96f4-0e1c537fcd38 | 29-12-2020          | IT            | test-3@nsa.gov           |\n",
      "|  4 | 82e0941e-3492-4c0f-8611-b93caa3c17d2 | 30-12-2020 00:00:00 | CA            | test5@us.ibm.com         |\n"
     ]
    },
    {
     "data": {
      "text/plain": [
       "{\n",
       "  \"meta\": {},\n",
       "  \"exception_info\": null,\n",
       "  \"result\": {\n",
       "    \"observed_value\": [\n",
       "      \"UNIQUE_ID\",\n",
       "      \"TIMESTAMP\",\n",
       "      \"ISO_COUNTRY\",\n",
       "      \"EMAIL\"\n",
       "    ],\n",
       "    \"details\": {\n",
       "      \"mismatched\": [\n",
       "        {\n",
       "          \"Expected Column Position\": 4,\n",
       "          \"Expected\": \"testcolumn\",\n",
       "          \"Found\": null\n",
       "        }\n",
       "      ]\n",
       "    }\n",
       "  },\n",
       "  \"success\": false\n",
       "}"
      ]
     },
     "execution_count": 55,
     "metadata": {},
     "output_type": "execute_result"
    }
   ],
   "source": [
    "print (df.to_markdown())\n",
    "df_ge.expect_table_columns_to_match_ordered_list([\"UNIQUE_ID\", \"TIMESTAMP\", \"ISO_COUNTRY\", \"EMAIL\", \"testcolumn\"], \n",
    "                                                 result_format={'result_format': 'COMPLETE'})"
   ]
  },
  {
   "cell_type": "markdown",
   "metadata": {
    "slideshow": {
     "slide_type": "slide"
    }
   },
   "source": [
    "### We can assert that a column does not have any null values."
   ]
  },
  {
   "cell_type": "code",
   "execution_count": 56,
   "metadata": {
    "slideshow": {
     "slide_type": "subslide"
    }
   },
   "outputs": [
    {
     "name": "stdout",
     "output_type": "stream",
     "text": [
      "|    | UNIQUE_ID                            | TIMESTAMP           | ISO_COUNTRY   | EMAIL                    |\n",
      "|---:|:-------------------------------------|:--------------------|:--------------|:-------------------------|\n",
      "|  0 | 0e0b6cf2-b80b-410d-aa5b-7ad98b6a46e7 | 26-12-2020 00:00:00 | nan           | test1@ibm.com            |\n",
      "|  1 | e7501c1f-70ae-4b11-93bc-b1af7099293e | 27-01-1990 00:00:00 | US            | test.4_invalid.email.gov |\n",
      "|  2 | 76865200-73f6-4316-9b26-d10bcf4ea6ea | 28-12-2020 00:00:00 | MX            | test.2@mx1.ibm.com       |\n",
      "|  3 | e7082b6d-f820-4fb8-96f4-0e1c537fcd38 | 29-12-2020          | IT            | test-3@nsa.gov           |\n",
      "|  4 | 82e0941e-3492-4c0f-8611-b93caa3c17d2 | 30-12-2020 00:00:00 | CA            | test5@us.ibm.com         |\n"
     ]
    },
    {
     "data": {
      "text/plain": [
       "{\n",
       "  \"meta\": {},\n",
       "  \"exception_info\": null,\n",
       "  \"result\": {\n",
       "    \"element_count\": 5,\n",
       "    \"unexpected_count\": 0,\n",
       "    \"unexpected_percent\": 0.0,\n",
       "    \"partial_unexpected_list\": [],\n",
       "    \"unexpected_list\": [],\n",
       "    \"unexpected_index_list\": []\n",
       "  },\n",
       "  \"success\": true\n",
       "}"
      ]
     },
     "execution_count": 56,
     "metadata": {},
     "output_type": "execute_result"
    }
   ],
   "source": [
    "print (df.to_markdown())\n",
    "df_ge.expect_column_values_to_not_be_null(\"EMAIL\", \n",
    "                                          result_format={'result_format': 'COMPLETE'})"
   ]
  },
  {
   "cell_type": "markdown",
   "metadata": {
    "slideshow": {
     "slide_type": "slide"
    }
   },
   "source": [
    "### Assert that a column matches a regex (for example, email)."
   ]
  },
  {
   "cell_type": "code",
   "execution_count": 57,
   "metadata": {
    "slideshow": {
     "slide_type": "subslide"
    }
   },
   "outputs": [
    {
     "name": "stdout",
     "output_type": "stream",
     "text": [
      "|    | UNIQUE_ID                            | TIMESTAMP           | ISO_COUNTRY   | EMAIL                    |\n",
      "|---:|:-------------------------------------|:--------------------|:--------------|:-------------------------|\n",
      "|  0 | 0e0b6cf2-b80b-410d-aa5b-7ad98b6a46e7 | 26-12-2020 00:00:00 | nan           | test1@ibm.com            |\n",
      "|  1 | e7501c1f-70ae-4b11-93bc-b1af7099293e | 27-01-1990 00:00:00 | US            | test.4_invalid.email.gov |\n",
      "|  2 | 76865200-73f6-4316-9b26-d10bcf4ea6ea | 28-12-2020 00:00:00 | MX            | test.2@mx1.ibm.com       |\n",
      "|  3 | e7082b6d-f820-4fb8-96f4-0e1c537fcd38 | 29-12-2020          | IT            | test-3@nsa.gov           |\n",
      "|  4 | 82e0941e-3492-4c0f-8611-b93caa3c17d2 | 30-12-2020 00:00:00 | CA            | test5@us.ibm.com         |\n"
     ]
    },
    {
     "data": {
      "text/plain": [
       "{\n",
       "  \"meta\": {},\n",
       "  \"exception_info\": null,\n",
       "  \"result\": {\n",
       "    \"element_count\": 5,\n",
       "    \"missing_count\": 0,\n",
       "    \"missing_percent\": 0.0,\n",
       "    \"unexpected_count\": 1,\n",
       "    \"unexpected_percent\": 20.0,\n",
       "    \"unexpected_percent_nonmissing\": 20.0,\n",
       "    \"partial_unexpected_list\": [\n",
       "      \"test.4_invalid.email.gov\"\n",
       "    ],\n",
       "    \"partial_unexpected_index_list\": [\n",
       "      1\n",
       "    ],\n",
       "    \"partial_unexpected_counts\": [\n",
       "      {\n",
       "        \"value\": \"test.4_invalid.email.gov\",\n",
       "        \"count\": 1\n",
       "      }\n",
       "    ],\n",
       "    \"unexpected_list\": [\n",
       "      \"test.4_invalid.email.gov\"\n",
       "    ],\n",
       "    \"unexpected_index_list\": [\n",
       "      1\n",
       "    ]\n",
       "  },\n",
       "  \"success\": false\n",
       "}"
      ]
     },
     "execution_count": 57,
     "metadata": {},
     "output_type": "execute_result"
    }
   ],
   "source": [
    "print (df.to_markdown())\n",
    "df_ge.expect_column_values_to_match_regex(\"EMAIL\", r\"(^[a-zA-Z0-9_.+-]+@[a-zA-Z0-9-]+\\.[a-zA-Z0-9-.]+$)\", \n",
    "                                          result_format={'result_format': 'COMPLETE'})"
   ]
  },
  {
   "cell_type": "markdown",
   "metadata": {
    "slideshow": {
     "slide_type": "slide"
    }
   },
   "source": [
    "### Assert that a column matches a strftime format."
   ]
  },
  {
   "cell_type": "code",
   "execution_count": 59,
   "metadata": {
    "slideshow": {
     "slide_type": "subslide"
    }
   },
   "outputs": [
    {
     "name": "stdout",
     "output_type": "stream",
     "text": [
      "|    | UNIQUE_ID                            | TIMESTAMP           | ISO_COUNTRY   | EMAIL                    |\n",
      "|---:|:-------------------------------------|:--------------------|:--------------|:-------------------------|\n",
      "|  0 | 0e0b6cf2-b80b-410d-aa5b-7ad98b6a46e7 | 26-12-2020 00:00:00 | nan           | test1@ibm.com            |\n",
      "|  1 | e7501c1f-70ae-4b11-93bc-b1af7099293e | 27-01-1990 00:00:00 | US            | test.4_invalid.email.gov |\n",
      "|  2 | 76865200-73f6-4316-9b26-d10bcf4ea6ea | 28-12-2020 00:00:00 | MX            | test.2@mx1.ibm.com       |\n",
      "|  3 | e7082b6d-f820-4fb8-96f4-0e1c537fcd38 | 29-12-2020          | IT            | test-3@nsa.gov           |\n",
      "|  4 | 82e0941e-3492-4c0f-8611-b93caa3c17d2 | 30-12-2020 00:00:00 | CA            | test5@us.ibm.com         |\n",
      "{\n",
      "  \"expectation_config\": {\n",
      "    \"kwargs\": {\n",
      "      \"column\": \"TIMESTAMP\",\n",
      "      \"strftime_format\": \"%d-%m-%Y\",\n",
      "      \"result_format\": {\n",
      "        \"result_format\": \"COMPLETE\"\n",
      "      }\n",
      "    },\n",
      "    \"expectation_type\": \"expect_column_values_to_match_strftime_format\",\n",
      "    \"meta\": {}\n",
      "  },\n",
      "  \"meta\": {},\n",
      "  \"exception_info\": null,\n",
      "  \"result\": {\n",
      "    \"element_count\": 5,\n",
      "    \"missing_count\": 0,\n",
      "    \"missing_percent\": 0.0,\n",
      "    \"unexpected_count\": 4,\n",
      "    \"unexpected_percent\": 80.0,\n",
      "    \"unexpected_percent_nonmissing\": 80.0,\n",
      "    \"partial_unexpected_list\": [\n",
      "      \"26-12-2020 00:00:00\",\n",
      "      \"27-01-1990 00:00:00\",\n",
      "      \"28-12-2020 00:00:00\",\n",
      "      \"30-12-2020 00:00:00\"\n",
      "    ],\n",
      "    \"partial_unexpected_index_list\": [\n",
      "      0,\n",
      "      1,\n",
      "      2,\n",
      "      4\n",
      "    ],\n",
      "    \"partial_unexpected_counts\": [\n",
      "      {\n",
      "        \"value\": \"26-12-2020 00:00:00\",\n",
      "        \"count\": 1\n",
      "      },\n",
      "      {\n",
      "        \"value\": \"27-01-1990 00:00:00\",\n",
      "        \"count\": 1\n",
      "      },\n",
      "      {\n",
      "        \"value\": \"28-12-2020 00:00:00\",\n",
      "        \"count\": 1\n",
      "      },\n",
      "      {\n",
      "        \"value\": \"30-12-2020 00:00:00\",\n",
      "        \"count\": 1\n",
      "      }\n",
      "    ],\n",
      "    \"unexpected_list\": [\n",
      "      \"26-12-2020 00:00:00\",\n",
      "      \"27-01-1990 00:00:00\",\n",
      "      \"28-12-2020 00:00:00\",\n",
      "      \"30-12-2020 00:00:00\"\n",
      "    ],\n",
      "    \"unexpected_index_list\": [\n",
      "      0,\n",
      "      1,\n",
      "      2,\n",
      "      4\n",
      "    ]\n",
      "  },\n",
      "  \"success\": false\n",
      "}\n"
     ]
    }
   ],
   "source": [
    "print (df.to_markdown())\n",
    "test = df_ge.expect_column_values_to_match_strftime_format(\"TIMESTAMP\", \"%d-%m-%Y\", \n",
    "                                                           result_format={'result_format': 'COMPLETE'})\n",
    "print(test)"
   ]
  },
  {
   "cell_type": "markdown",
   "metadata": {
    "slideshow": {
     "slide_type": "slide"
    }
   },
   "source": [
    "### Drop the \"unexpected\" values from the dataframe."
   ]
  },
  {
   "cell_type": "code",
   "execution_count": 60,
   "metadata": {
    "slideshow": {
     "slide_type": "fragment"
    }
   },
   "outputs": [
    {
     "name": "stdout",
     "output_type": "stream",
     "text": [
      "|    | UNIQUE_ID                            | TIMESTAMP   | ISO_COUNTRY   | EMAIL          |\n",
      "|---:|:-------------------------------------|:------------|:--------------|:---------------|\n",
      "|  3 | e7082b6d-f820-4fb8-96f4-0e1c537fcd38 | 29-12-2020  | IT            | test-3@nsa.gov |\n"
     ]
    }
   ],
   "source": [
    "df.drop(test.result[\"unexpected_index_list\"], inplace=True)\n",
    "print(df.to_markdown())"
   ]
  },
  {
   "cell_type": "markdown",
   "metadata": {
    "slideshow": {
     "slide_type": "slide"
    }
   },
   "source": [
    "### Assert that the values are in a specific range (even works with dates!)."
   ]
  },
  {
   "cell_type": "code",
   "execution_count": 21,
   "metadata": {
    "slideshow": {
     "slide_type": "subslide"
    }
   },
   "outputs": [
    {
     "name": "stdout",
     "output_type": "stream",
     "text": [
      "|    | UNIQUE_ID                            | TIMESTAMP           | ISO_COUNTRY   | EMAIL                    |\n",
      "|---:|:-------------------------------------|:--------------------|:--------------|:-------------------------|\n",
      "|  0 | 1af2ecff-4cc7-4522-80b0-d7f65d213a49 | 26-12-2020 00:00:00 | nan           | test1@ibm.com            |\n",
      "|  1 | 90f62a96-95b3-4647-a790-8ac5cb40029c | 27-01-1990 00:00:00 | US            | test.4_invalid.email.gov |\n",
      "|  2 | 4f47b60e-7ac1-46c3-bceb-f840bb449630 | 28-12-2020 00:00:00 | MX            | test.2@mx1.ibm.com       |\n",
      "|  4 | 574389ea-375c-4e3d-ab3d-43d27c941fd7 | 30-12-2020 00:00:00 | CA            | test5@us.ibm.com         |\n",
      "{\n",
      "  \"expectation_config\": {\n",
      "    \"kwargs\": {\n",
      "      \"column\": \"TIMESTAMP\",\n",
      "      \"parse_strings_as_datetimes\": true,\n",
      "      \"min_value\": \"01-01-2020 00:00:00\",\n",
      "      \"max_value\": \"30-12-2020 00:00:00\",\n",
      "      \"result_format\": {\n",
      "        \"result_format\": \"COMPLETE\"\n",
      "      }\n",
      "    },\n",
      "    \"expectation_type\": \"expect_column_values_to_be_between\",\n",
      "    \"meta\": {}\n",
      "  },\n",
      "  \"meta\": {},\n",
      "  \"exception_info\": null,\n",
      "  \"result\": {\n",
      "    \"element_count\": 5,\n",
      "    \"missing_count\": 0,\n",
      "    \"missing_percent\": 0.0,\n",
      "    \"unexpected_count\": 1,\n",
      "    \"unexpected_percent\": 20.0,\n",
      "    \"unexpected_percent_nonmissing\": 20.0,\n",
      "    \"partial_unexpected_list\": [\n",
      "      \"27-01-1990 00:00:00\"\n",
      "    ],\n",
      "    \"partial_unexpected_index_list\": [\n",
      "      1\n",
      "    ],\n",
      "    \"partial_unexpected_counts\": [\n",
      "      {\n",
      "        \"value\": \"27-01-1990 00:00:00\",\n",
      "        \"count\": 1\n",
      "      }\n",
      "    ],\n",
      "    \"unexpected_list\": [\n",
      "      \"27-01-1990 00:00:00\"\n",
      "    ],\n",
      "    \"unexpected_index_list\": [\n",
      "      1\n",
      "    ]\n",
      "  },\n",
      "  \"success\": false\n",
      "}\n"
     ]
    }
   ],
   "source": [
    "print (df.to_markdown())\n",
    "test = df_ge.expect_column_values_to_be_between(\"TIMESTAMP\",\n",
    "                                                parse_strings_as_datetimes=True,\n",
    "                                                min_value=\"01-01-2020 00:00:00\",\n",
    "                                                max_value=\"30-12-2020 00:00:00\",\n",
    "                                                result_format={'result_format': 'COMPLETE'})\n",
    "print (test)"
   ]
  },
  {
   "cell_type": "markdown",
   "metadata": {
    "slideshow": {
     "slide_type": "slide"
    }
   },
   "source": [
    "### Since expectations rarely change, we can save them to a configuration file and re-use them."
   ]
  },
  {
   "cell_type": "code",
   "execution_count": 33,
   "metadata": {
    "slideshow": {
     "slide_type": "fragment"
    }
   },
   "outputs": [],
   "source": [
    "df_ge.save_expectation_suite('/home/alan/saved_config.json')"
   ]
  },
  {
   "cell_type": "markdown",
   "metadata": {
    "slideshow": {
     "slide_type": "slide"
    }
   },
   "source": [
    "### Create a new dataset."
   ]
  },
  {
   "cell_type": "code",
   "execution_count": 61,
   "metadata": {
    "slideshow": {
     "slide_type": "subslide"
    }
   },
   "outputs": [
    {
     "name": "stdout",
     "output_type": "stream",
     "text": [
      "|    | UNIQUE_ID                            | TIMESTAMP           | ISO_COUNTRY   | EMAIL                  |\n",
      "|---:|:-------------------------------------|:--------------------|:--------------|:-----------------------|\n",
      "|  0 | aeb7cd90-9e5f-4e7f-990f-138928a3dc6d | 26-12-2020 00:00:00 | nan           | test1@ibm.com          |\n",
      "|  1 | e52e8030-5f26-4bec-941f-72db13d08c7f | 27-01-2020 00:00:00 | CN            | test.2@valid.email.gov |\n",
      "|  2 | 4273f4b6-46da-432e-af57-009988a3838f | 28-12-2020 00:00:00 | US            | test.3@mx1.ibm.com     |\n",
      "|  3 | 60c34e1a-b208-4398-80ed-f9e9ec68f3a6 | 29-12-2020          | JP            | test-4@nsa.gov         |\n",
      "|  4 | 95b91829-7ba1-4f0e-84fa-785f098dad65 | 30-12-2020 00:00:00 | UK            | test5@us.ibm.com       |\n"
     ]
    }
   ],
   "source": [
    "df2 = pd.DataFrame({\"TIMESTAMP\": [\"26-12-2020 00:00:00\",\n",
    "                                  \"27-01-2020 00:00:00\",\n",
    "                                  \"28-12-2020 00:00:00\",\n",
    "                                  \"29-12-2020\",\n",
    "                                  \"30-12-2020 00:00:00\"],\n",
    "                    \"ISO_COUNTRY\": [pd.np.NaN,\n",
    "                                    \"CN\",\n",
    "                                    \"US\",\n",
    "                                    \"JP\",\n",
    "                                    \"UK\"],\n",
    "                    \"EMAIL\": [\"test1@ibm.com\",\n",
    "                              \"test.2@valid.email.gov\",\n",
    "                              \"test.3@mx1.ibm.com\",\n",
    "                              \"test-4@nsa.gov\",\n",
    "                              \"test5@us.ibm.com\"]})\n",
    "uuid_series = df2.index.to_series().map(lambda x: uuid4())\n",
    "df2.insert(loc=0, column=\"UNIQUE_ID\", value=uuid_series)\n",
    "print (df2.to_markdown())"
   ]
  },
  {
   "cell_type": "markdown",
   "metadata": {
    "slideshow": {
     "slide_type": "slide"
    }
   },
   "source": [
    "### Using expectations files, we can easily validate any dataset against them."
   ]
  },
  {
   "cell_type": "code",
   "execution_count": 62,
   "metadata": {
    "slideshow": {
     "slide_type": "subslide"
    }
   },
   "outputs": [
    {
     "name": "stdout",
     "output_type": "stream",
     "text": [
      "|    | UNIQUE_ID                            | TIMESTAMP           | ISO_COUNTRY   | EMAIL                  |\n",
      "|---:|:-------------------------------------|:--------------------|:--------------|:-----------------------|\n",
      "|  0 | aeb7cd90-9e5f-4e7f-990f-138928a3dc6d | 26-12-2020 00:00:00 | nan           | test1@ibm.com          |\n",
      "|  1 | e52e8030-5f26-4bec-941f-72db13d08c7f | 27-01-2020 00:00:00 | CN            | test.2@valid.email.gov |\n",
      "|  2 | 4273f4b6-46da-432e-af57-009988a3838f | 28-12-2020 00:00:00 | US            | test.3@mx1.ibm.com     |\n",
      "|  3 | 60c34e1a-b208-4398-80ed-f9e9ec68f3a6 | 29-12-2020          | JP            | test-4@nsa.gov         |\n",
      "|  4 | 95b91829-7ba1-4f0e-84fa-785f098dad65 | 30-12-2020 00:00:00 | UK            | test5@us.ibm.com       |\n",
      "{\n",
      "  \"results\": [\n",
      "    {\n",
      "      \"expectation_config\": {\n",
      "        \"kwargs\": {\n",
      "          \"column\": \"UNIQUE_ID\",\n",
      "          \"result_format\": {\n",
      "            \"result_format\": \"COMPLETE\"\n",
      "          }\n",
      "        },\n",
      "        \"expectation_type\": \"expect_column_values_to_be_unique\",\n",
      "        \"meta\": {}\n",
      "      },\n",
      "      \"meta\": {},\n",
      "      \"exception_info\": {\n",
      "        \"raised_exception\": false,\n",
      "        \"exception_message\": null,\n",
      "        \"exception_traceback\": null\n",
      "      },\n",
      "      \"result\": {\n",
      "        \"element_count\": 5,\n",
      "        \"missing_count\": 0,\n",
      "        \"missing_percent\": 0.0,\n",
      "        \"unexpected_count\": 0,\n",
      "        \"unexpected_percent\": 0.0,\n",
      "        \"unexpected_percent_nonmissing\": 0.0,\n",
      "        \"partial_unexpected_list\": [],\n",
      "        \"partial_unexpected_index_list\": [],\n",
      "        \"partial_unexpected_counts\": [],\n",
      "        \"unexpected_list\": [],\n",
      "        \"unexpected_index_list\": []\n",
      "      },\n",
      "      \"success\": true\n",
      "    },\n",
      "    {\n",
      "      \"expectation_config\": {\n",
      "        \"kwargs\": {\n",
      "          \"max_value\": 13,\n",
      "          \"min_value\": 1,\n",
      "          \"result_format\": {\n",
      "            \"result_format\": \"COMPLETE\"\n",
      "          }\n",
      "        },\n",
      "        \"expectation_type\": \"expect_table_row_count_to_be_between\",\n",
      "        \"meta\": {}\n",
      "      },\n",
      "      \"meta\": {},\n",
      "      \"exception_info\": {\n",
      "        \"raised_exception\": false,\n",
      "        \"exception_message\": null,\n",
      "        \"exception_traceback\": null\n",
      "      },\n",
      "      \"result\": {\n",
      "        \"observed_value\": 5\n",
      "      },\n",
      "      \"success\": true\n",
      "    },\n",
      "    {\n",
      "      \"expectation_config\": {\n",
      "        \"kwargs\": {\n",
      "          \"column_list\": [\n",
      "            \"UNIQUE_ID\",\n",
      "            \"TIMESTAMP\",\n",
      "            \"ISO_COUNTRY\",\n",
      "            \"EMAIL\"\n",
      "          ],\n",
      "          \"result_format\": {\n",
      "            \"result_format\": \"COMPLETE\"\n",
      "          }\n",
      "        },\n",
      "        \"expectation_type\": \"expect_table_columns_to_match_ordered_list\",\n",
      "        \"meta\": {}\n",
      "      },\n",
      "      \"meta\": {},\n",
      "      \"exception_info\": {\n",
      "        \"raised_exception\": false,\n",
      "        \"exception_message\": null,\n",
      "        \"exception_traceback\": null\n",
      "      },\n",
      "      \"result\": {\n",
      "        \"observed_value\": [\n",
      "          \"UNIQUE_ID\",\n",
      "          \"TIMESTAMP\",\n",
      "          \"ISO_COUNTRY\",\n",
      "          \"EMAIL\"\n",
      "        ]\n",
      "      },\n",
      "      \"success\": true\n",
      "    },\n",
      "    {\n",
      "      \"expectation_config\": {\n",
      "        \"kwargs\": {\n",
      "          \"column\": \"ISO_COUNTRY\",\n",
      "          \"result_format\": {\n",
      "            \"result_format\": \"COMPLETE\"\n",
      "          }\n",
      "        },\n",
      "        \"expectation_type\": \"expect_column_to_exist\",\n",
      "        \"meta\": {}\n",
      "      },\n",
      "      \"meta\": {},\n",
      "      \"exception_info\": {\n",
      "        \"raised_exception\": false,\n",
      "        \"exception_message\": null,\n",
      "        \"exception_traceback\": null\n",
      "      },\n",
      "      \"result\": {},\n",
      "      \"success\": true\n",
      "    },\n",
      "    {\n",
      "      \"expectation_config\": {\n",
      "        \"kwargs\": {\n",
      "          \"column\": \"ISO_COUNTRY\",\n",
      "          \"result_format\": {\n",
      "            \"result_format\": \"COMPLETE\"\n",
      "          }\n",
      "        },\n",
      "        \"expectation_type\": \"expect_column_values_to_not_be_null\",\n",
      "        \"meta\": {}\n",
      "      },\n",
      "      \"meta\": {},\n",
      "      \"exception_info\": {\n",
      "        \"raised_exception\": false,\n",
      "        \"exception_message\": null,\n",
      "        \"exception_traceback\": null\n",
      "      },\n",
      "      \"result\": {\n",
      "        \"element_count\": 5,\n",
      "        \"unexpected_count\": 1,\n",
      "        \"unexpected_percent\": 20.0,\n",
      "        \"partial_unexpected_list\": [],\n",
      "        \"unexpected_list\": [\n",
      "          null\n",
      "        ],\n",
      "        \"unexpected_index_list\": [\n",
      "          0\n",
      "        ]\n",
      "      },\n",
      "      \"success\": false\n",
      "    }\n",
      "  ],\n",
      "  \"statistics\": {\n",
      "    \"evaluated_expectations\": 5,\n",
      "    \"successful_expectations\": 4,\n",
      "    \"unsuccessful_expectations\": 1,\n",
      "    \"success_percent\": 80.0\n",
      "  },\n",
      "  \"evaluation_parameters\": {},\n",
      "  \"meta\": {\n",
      "    \"great_expectations.__version__\": \"0.11.8\",\n",
      "    \"expectation_suite_name\": \"default\",\n",
      "    \"run_id\": {\n",
      "      \"run_name\": null,\n",
      "      \"run_time\": \"2020-08-05T17:29:26.973966+00:00\"\n",
      "    },\n",
      "    \"batch_kwargs\": {\n",
      "      \"ge_batch_id\": \"36291d92-d741-11ea-b0b2-d4d2527b4035\"\n",
      "    },\n",
      "    \"batch_markers\": {},\n",
      "    \"batch_parameters\": {},\n",
      "    \"validation_time\": \"20200805T172926.973872Z\"\n",
      "  },\n",
      "  \"success\": false\n",
      "}\n"
     ]
    }
   ],
   "source": [
    "print (df2.to_markdown())\n",
    "df_ge2 = ge.dataset.PandasDataset(df2)\n",
    "validation_results = df_ge2.validate(expectation_suite='/home/alan/saved_config.json',\n",
    "                                     result_format={'result_format': 'COMPLETE'})\n",
    "print(validation_results)"
   ]
  }
 ],
 "metadata": {
  "celltoolbar": "Slideshow",
  "kernelspec": {
   "display_name": "Python 3",
   "language": "python",
   "name": "python3"
  },
  "language_info": {
   "codemirror_mode": {
    "name": "ipython",
    "version": 3
   },
   "file_extension": ".py",
   "mimetype": "text/x-python",
   "name": "python",
   "nbconvert_exporter": "python",
   "pygments_lexer": "ipython3",
   "version": "3.6.10"
  },
  "rise": {
   "enable_chalkboard": true,
   "scroll": true,
   "theme": "night"
  }
 },
 "nbformat": 4,
 "nbformat_minor": 4
}
